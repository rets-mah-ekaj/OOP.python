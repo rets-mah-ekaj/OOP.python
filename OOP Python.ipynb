{
 "cells": [
  {
   "cell_type": "code",
   "execution_count": 1,
   "id": "edd923d5",
   "metadata": {},
   "outputs": [],
   "source": [
    "item1 = 'Phone'\n",
    "item1_price = 100\n",
    "item1_quantity = 5\n",
    "item1_price_total = item1_price * item1_quantity"
   ]
  },
  {
   "cell_type": "code",
   "execution_count": 2,
   "id": "1083074c",
   "metadata": {},
   "outputs": [
    {
     "name": "stdout",
     "output_type": "stream",
     "text": [
      "<class 'str'>\n",
      "<class 'int'>\n",
      "<class 'int'>\n",
      "<class 'int'>\n"
     ]
    }
   ],
   "source": [
    "print(type(item1))\n",
    "print(type(item1_price))\n",
    "print(type(item1_quantity))\n",
    "print(type(item1_price_total))"
   ]
  },
  {
   "cell_type": "markdown",
   "id": "b46a8757",
   "metadata": {},
   "source": [
    "**There are two steps of class to work functionally:**\n",
    "1. Class creation\n",
    "2. Class instantiation"
   ]
  },
  {
   "cell_type": "code",
   "execution_count": 5,
   "id": "4c438612",
   "metadata": {},
   "outputs": [],
   "source": [
    "'''\n",
    "[class definition]\n",
    "class class_name:\n",
    "    list of attributes and methods\n",
    "'''\n",
    "class Item:\n",
    "    pass"
   ]
  },
  {
   "cell_type": "code",
   "execution_count": 6,
   "id": "41bc3662",
   "metadata": {},
   "outputs": [],
   "source": [
    "'''\n",
    "[class instantiation]\n",
    "variable_name = class_name()\n",
    "'''\n",
    "item1 = Item()"
   ]
  },
  {
   "cell_type": "code",
   "execution_count": 7,
   "id": "9ab6b2be",
   "metadata": {},
   "outputs": [],
   "source": [
    "'''\n",
    "[class attributes creation]\n",
    "variable_name_which_is_initialised_by_class.attribute_name = value\n",
    "'''\n",
    "item1.name = 'Phone'\n",
    "item1.price = 100\n",
    "item1.quantity = 5"
   ]
  },
  {
   "cell_type": "code",
   "execution_count": 8,
   "id": "7c4ba3cc",
   "metadata": {},
   "outputs": [
    {
     "name": "stdout",
     "output_type": "stream",
     "text": [
      "<class '__main__.Item'>\n",
      "<class 'str'>\n",
      "<class 'int'>\n",
      "<class 'int'>\n"
     ]
    }
   ],
   "source": [
    "print(type(item1))\n",
    "print(type(item1.name))\n",
    "print(type(item1.price))\n",
    "print(type(item1.quantity))"
   ]
  },
  {
   "cell_type": "code",
   "execution_count": 11,
   "id": "c980e89e",
   "metadata": {},
   "outputs": [],
   "source": [
    "class Item:\n",
    "    def calculate_total_price(self, x, y):\n",
    "        return x * y\n",
    "item1 = Item()\n",
    "item2 = Item()"
   ]
  },
  {
   "cell_type": "code",
   "execution_count": 13,
   "id": "838cc4c7",
   "metadata": {},
   "outputs": [
    {
     "name": "stdout",
     "output_type": "stream",
     "text": [
      "500\n",
      "3000\n"
     ]
    }
   ],
   "source": [
    "item1.name = 'Phone'\n",
    "item1.price = 100\n",
    "item1.quantity = 5\n",
    "print(item1.calculate_total_price(item1.price, item1.quantity))\n",
    "\n",
    "item2.name = 'Laptop'\n",
    "item2.price = 1000\n",
    "item2.quantity = 3\n",
    "print(item2.calculate_total_price(item2.price, item2.quantity))"
   ]
  }
 ],
 "metadata": {
  "kernelspec": {
   "display_name": "Python 3 (ipykernel)",
   "language": "python",
   "name": "python3"
  },
  "language_info": {
   "codemirror_mode": {
    "name": "ipython",
    "version": 3
   },
   "file_extension": ".py",
   "mimetype": "text/x-python",
   "name": "python",
   "nbconvert_exporter": "python",
   "pygments_lexer": "ipython3",
   "version": "3.9.7"
  }
 },
 "nbformat": 4,
 "nbformat_minor": 5
}
